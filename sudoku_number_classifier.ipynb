{
 "cells": [
  {
   "cell_type": "markdown",
   "metadata": {},
   "source": [
    "This notebook will utilize the MNIST dataset to aid in training a neural network (NN) that can recognize digits. Its performance will then be test on some Sudoku puzzles, but it is expected as of now that it may not be perfect since this dataset containts handwritten digits. Sudoku puzzles are typically printed in a nicer fashion. Therefore, it may be wise to explore and expand the training dataset to also incorporate printed Sudoku puzzles. This may make it easier for the NN to then recognize puzzles that have been printed and partially filled in. "
   ]
  },
  {
   "cell_type": "code",
   "metadata": {
    "ExecuteTime": {
     "end_time": "2024-05-18T00:25:45.098976Z",
     "start_time": "2024-05-18T00:25:43.740243Z"
    }
   },
   "source": [
    "from matplotlib import pyplot as plt\n",
    "import numpy as np\n",
    "import torch\n",
    "from torch.utils.data import random_split, TensorDataset\n",
    "import cv2\n",
    "from copy import copy\n",
    "import re\n",
    "import os\n",
    "\n",
    "from python_helper_functions import parse_dat, get_sudoku_dataset\n",
    "from NumberModel import NumberModel, fit"
   ],
   "outputs": [],
   "execution_count": 1
  },
  {
   "cell_type": "code",
   "metadata": {
    "ExecuteTime": {
     "end_time": "2024-05-18T00:22:29.350300Z",
     "start_time": "2024-05-18T00:22:29.339687Z"
    }
   },
   "source": [
    "print(parse_dat('./warped_dataset/image1082.dat'))"
   ],
   "outputs": [
    {
     "name": "stdout",
     "output_type": "stream",
     "text": [
      "[[3 4 7 0 5 1 0 0 0]\n",
      " [0 1 9 0 0 0 0 0 0]\n",
      " [5 0 6 3 4 0 0 0 0]\n",
      " [0 7 0 0 0 3 0 0 2]\n",
      " [0 0 1 0 0 0 7 0 0]\n",
      " [9 0 0 8 0 0 0 5 0]\n",
      " [0 0 0 0 3 5 6 0 8]\n",
      " [0 0 0 0 0 0 3 2 0]\n",
      " [0 0 0 6 8 0 5 9 1]]\n"
     ]
    }
   ],
   "execution_count": 4
  },
  {
   "cell_type": "code",
   "metadata": {
    "ExecuteTime": {
     "end_time": "2024-05-18T00:22:30.075793Z",
     "start_time": "2024-05-18T00:22:29.351002Z"
    }
   },
   "source": [
    "warped_path = \"./warped_dataset/\"\n",
    "cell_path = \"./cell_dataset/\"\n",
    "all_filenames = os.listdir(warped_path)\n",
    "warped_jpg_filenames = sorted([filename for filename in all_filenames if re.search(r\"\\.jpg\", filename)]) # holds jpg images\n",
    "warped_dat_filenames = sorted([filename for filename in all_filenames if re.search(r\"\\.dat\", filename)]) # holds label information\n",
    "\n",
    "folder_counter = np.zeros(10, dtype=np.int32)\n",
    "for i in range(len(warped_dat_filenames)):\n",
    "    # get full path and convert image to grayscale\n",
    "    curr_dat = warped_path + warped_dat_filenames[i]\n",
    "    curr_jpg = warped_path + warped_jpg_filenames[i]\n",
    "    full_img = cv2.imread(curr_jpg, cv2.IMREAD_GRAYSCALE)\n",
    "\n",
    "    # parse the image into a 9x9 grid and append the cells\n",
    "    cells = []\n",
    "    step_x = full_img.shape[1] // 9\n",
    "    step_y = full_img.shape[0] // 9\n",
    "    for m in range(9):\n",
    "        for n in range(9):\n",
    "            curr_cell = copy(full_img[m*step_y: (m+1)*step_y, n*step_x: (n+1)*step_x])\n",
    "            cells.append(curr_cell)\n",
    "\n",
    "    # parse the .dat file to get the corresponding labels for each cell in the image\n",
    "    labels = parse_dat(curr_dat).flatten()\n",
    "\n",
    "    # write to the cell_dataset directory and organize every cell image by its label\n",
    "    for k, label in enumerate(labels):\n",
    "        label_path = cell_path + str(label) + \"/\"\n",
    "        if not os.path.exists(label_path):\n",
    "            os.makedirs(label_path)\n",
    "\n",
    "        sub_image = cells[k]\n",
    "        cv2.imwrite(label_path + str(folder_counter[label]) + \".jpg\", sub_image)\n",
    "        folder_counter[label] += 1"
   ],
   "outputs": [],
   "execution_count": 5
  },
  {
   "cell_type": "code",
   "metadata": {
    "ExecuteTime": {
     "end_time": "2024-05-18T00:29:29.874927Z",
     "start_time": "2024-05-18T00:25:46.896588Z"
    }
   },
   "source": [
    "# load the sudoku dataset from the cell_dataset directory and fit the Neural Network on this dataset\n",
    "train_data, test_data, single_image_dimension = get_sudoku_dataset()\n",
    "losses, NetObject = fit(train_data, test_data, single_image_dimension, 20, 50)"
   ],
   "outputs": [
    {
     "name": "stdout",
     "output_type": "stream",
     "text": [
      "Shape labels: torch.Size([11502]), dtype: torch.int32\n",
      "Shape all_images: torch.Size([11502, 1, 50, 50]), dtype: torch.float32\n",
      "Epoch 4Unexpected exception formatting exception. Falling back to standard exception\n"
     ]
    },
    {
     "name": "stderr",
     "output_type": "stream",
     "text": [
      "Traceback (most recent call last):\n",
      "  File \"/home/jorgejc2/anaconda3/envs/SudokuSolverProject/lib/python3.11/site-packages/IPython/core/interactiveshell.py\", line 3553, in run_code\n",
      "    exec(code_obj, self.user_global_ns, self.user_ns)\n",
      "  File \"/tmp/ipykernel_32381/3180408849.py\", line 3, in <module>\n",
      "    losses, NetObject = fit(train_data, test_data, single_image_dimension, 20, 50)\n",
      "                        ^^^^^^^^^^^^^^^^^^^^^^^^^^^^^^^^^^^^^^^^^^^^^^^^^^^^^^^^^^\n",
      "  File \"/home/jorgejc2/Documents/PersonalProjects/SudokuSolver/NumberModel.py\", line 182, in fit\n",
      "    for batch in train_loader:\n",
      "                      ^^^^^^^^^\n",
      "  File \"/home/jorgejc2/Documents/PersonalProjects/SudokuSolver/NumberModel.py\", line 134, in step\n",
      "  File \"/home/jorgejc2/Documents/PersonalProjects/SudokuSolver/NumberModel.py\", line 116, in forward\n",
      "    x = self.layer2(x)\n",
      "        ^^^^^^^^^^^^^^\n",
      "  File \"/home/jorgejc2/anaconda3/envs/SudokuSolverProject/lib/python3.11/site-packages/torch/nn/modules/module.py\", line 1532, in _wrapped_call_impl\n",
      "    return self._call_impl(*args, **kwargs)\n",
      "           ^^^^^^^^^^^^^^^^^^^^^^^^^^^^^^^^\n",
      "  File \"/home/jorgejc2/anaconda3/envs/SudokuSolverProject/lib/python3.11/site-packages/torch/nn/modules/module.py\", line 1541, in _call_impl\n",
      "    return forward_call(*args, **kwargs)\n",
      "           ^^^^^^^^^^^^^^^^^^^^^^^^^^^^^\n",
      "  File \"/home/jorgejc2/anaconda3/envs/SudokuSolverProject/lib/python3.11/site-packages/torch/nn/modules/container.py\", line 217, in forward\n",
      "    input = module(input)\n",
      "            ^^^^^^^^^^^^^\n",
      "  File \"/home/jorgejc2/anaconda3/envs/SudokuSolverProject/lib/python3.11/site-packages/torch/nn/modules/module.py\", line 1532, in _wrapped_call_impl\n",
      "    return self._call_impl(*args, **kwargs)\n",
      "           ^^^^^^^^^^^^^^^^^^^^^^^^^^^^^^^^\n",
      "  File \"/home/jorgejc2/anaconda3/envs/SudokuSolverProject/lib/python3.11/site-packages/torch/nn/modules/module.py\", line 1541, in _call_impl\n",
      "    return forward_call(*args, **kwargs)\n",
      "           ^^^^^^^^^^^^^^^^^^^^^^^^^^^^^\n",
      "  File \"/home/jorgejc2/Documents/PersonalProjects/SudokuSolver/NumberModel.py\", line 31, in forward\n",
      "    out = self.relu(out)\n",
      "          ^^^^^^^^^^^^^^^\n",
      "  File \"/home/jorgejc2/anaconda3/envs/SudokuSolverProject/lib/python3.11/site-packages/torch/nn/modules/module.py\", line 1532, in _wrapped_call_impl\n",
      "    return self._call_impl(*args, **kwargs)\n",
      "           ^^^^^^^^^^^^^^^^^^^^^^^^^^^^^^^^\n",
      "  File \"/home/jorgejc2/anaconda3/envs/SudokuSolverProject/lib/python3.11/site-packages/torch/nn/modules/module.py\", line 1541, in _call_impl\n",
      "    return forward_call(*args, **kwargs)\n",
      "           ^^^^^^^^^^^^^^^^^^^^^^^^^^^^^\n",
      "  File \"/home/jorgejc2/anaconda3/envs/SudokuSolverProject/lib/python3.11/site-packages/torch/nn/modules/conv.py\", line 460, in forward\n",
      "    return self._conv_forward(input, self.weight, self.bias)\n",
      "           ^^^^^^^^^^^^^^^^^^^^^^^^^^^^^^^^^^^^^^^^^^^^^^^^^\n",
      "  File \"/home/jorgejc2/anaconda3/envs/SudokuSolverProject/lib/python3.11/site-packages/torch/nn/modules/conv.py\", line 456, in _conv_forward\n",
      "    return F.conv2d(input, weight, bias, self.stride,\n",
      "           ^^^^^^^^^^^^^^^^^^^^^^^^^^^^^^^^^^^^^^^^^^\n",
      "KeyboardInterrupt\n",
      "\n",
      "During handling of the above exception, another exception occurred:\n",
      "\n",
      "Traceback (most recent call last):\n",
      "  File \"/home/jorgejc2/anaconda3/envs/SudokuSolverProject/lib/python3.11/site-packages/IPython/core/interactiveshell.py\", line 2144, in showtraceback\n",
      "    stb = self.InteractiveTB.structured_traceback(\n",
      "          ^^^^^^^^^^^^^^^^^^^^^^^^^^^^^^^^^^^^^^^^\n",
      "  File \"/home/jorgejc2/anaconda3/envs/SudokuSolverProject/lib/python3.11/site-packages/IPython/core/ultratb.py\", line 1435, in structured_traceback\n",
      "    return FormattedTB.structured_traceback(\n",
      "           ^^^^^^^^^^^^^^^^^^^^^^^^^^^^^^^^^\n",
      "  File \"/home/jorgejc2/anaconda3/envs/SudokuSolverProject/lib/python3.11/site-packages/IPython/core/ultratb.py\", line 1326, in structured_traceback\n",
      "    return VerboseTB.structured_traceback(\n",
      "           ^^^^^^^^^^^^^^^^^^^^^^^^^^^^^^^\n",
      "  File \"/home/jorgejc2/anaconda3/envs/SudokuSolverProject/lib/python3.11/site-packages/IPython/core/ultratb.py\", line 1173, in structured_traceback\n",
      "    formatted_exception = self.format_exception_as_a_whole(etype, evalue, etb, number_of_lines_of_context,\n",
      "                          ^^^^^^^^^^^^^^^^^^^^^^^^^^^^^^^^^^^^^^^^^^^^^^^^^^^^^^^^^^^^^^^^^^^^^^^^^^^^^^^^\n",
      "  File \"/home/jorgejc2/anaconda3/envs/SudokuSolverProject/lib/python3.11/site-packages/IPython/core/ultratb.py\", line 1088, in format_exception_as_a_whole\n",
      "    frames.append(self.format_record(record))\n",
      "                  ^^^^^^^^^^^^^^^^^^^^^^^^^^\n",
      "  File \"/home/jorgejc2/anaconda3/envs/SudokuSolverProject/lib/python3.11/site-packages/IPython/core/ultratb.py\", line 970, in format_record\n",
      "    frame_info.lines, Colors, self.has_colors, lvals\n",
      "    ^^^^^^^^^^^^^^^^\n",
      "  File \"/home/jorgejc2/anaconda3/envs/SudokuSolverProject/lib/python3.11/site-packages/IPython/core/ultratb.py\", line 792, in lines\n",
      "    return self._sd.lines\n",
      "           ^^^^^^^^^^^^^^\n",
      "  File \"/home/jorgejc2/anaconda3/envs/SudokuSolverProject/lib/python3.11/site-packages/stack_data/utils.py\", line 145, in cached_property_wrapper\n",
      "    value = obj.__dict__[self.func.__name__] = self.func(obj)\n",
      "                                               ^^^^^^^^^^^^^^\n",
      "  File \"/home/jorgejc2/anaconda3/envs/SudokuSolverProject/lib/python3.11/site-packages/stack_data/core.py\", line 698, in lines\n",
      "    pieces = self.included_pieces\n",
      "             ^^^^^^^^^^^^^^^^^^^^\n",
      "  File \"/home/jorgejc2/anaconda3/envs/SudokuSolverProject/lib/python3.11/site-packages/stack_data/utils.py\", line 145, in cached_property_wrapper\n",
      "    value = obj.__dict__[self.func.__name__] = self.func(obj)\n",
      "                                               ^^^^^^^^^^^^^^\n",
      "  File \"/home/jorgejc2/anaconda3/envs/SudokuSolverProject/lib/python3.11/site-packages/stack_data/core.py\", line 649, in included_pieces\n",
      "    pos = scope_pieces.index(self.executing_piece)\n",
      "                             ^^^^^^^^^^^^^^^^^^^^\n",
      "  File \"/home/jorgejc2/anaconda3/envs/SudokuSolverProject/lib/python3.11/site-packages/stack_data/utils.py\", line 145, in cached_property_wrapper\n",
      "    value = obj.__dict__[self.func.__name__] = self.func(obj)\n",
      "                                               ^^^^^^^^^^^^^^\n",
      "  File \"/home/jorgejc2/anaconda3/envs/SudokuSolverProject/lib/python3.11/site-packages/stack_data/core.py\", line 628, in executing_piece\n",
      "    return only(\n",
      "           ^^^^^\n",
      "  File \"/home/jorgejc2/anaconda3/envs/SudokuSolverProject/lib/python3.11/site-packages/executing/executing.py\", line 164, in only\n",
      "    raise NotOneValueFound('Expected one value, found 0')\n",
      "executing.executing.NotOneValueFound: Expected one value, found 0\n"
     ]
    }
   ],
   "execution_count": 2
  }
 ],
 "metadata": {
  "kernelspec": {
   "display_name": "rapids-23.10",
   "language": "python",
   "name": "python3"
  },
  "language_info": {
   "codemirror_mode": {
    "name": "ipython",
    "version": 3
   },
   "file_extension": ".py",
   "mimetype": "text/x-python",
   "name": "python",
   "nbconvert_exporter": "python",
   "pygments_lexer": "ipython3",
   "version": "3.10.13"
  }
 },
 "nbformat": 4,
 "nbformat_minor": 2
}
