{
 "cells": [
  {
   "cell_type": "markdown",
   "metadata": {},
   "source": [
    "This notebook will utilize the MNIST dataset to aid in training a neural network (NN) that can recognize digits. Its performance will then be test on some Sudoku puzzles, but it is expected as of now that it may not be perfect since this dataset containts handwritten digits. Sudoku puzzles are typically printed in a nicer fashion. Therefore, it may be wise to explore and expand the training dataset to also incorporate printed Sudoku puzzles. This may make it easier for the NN to then recognize puzzles that have been printed and partially filled in. "
   ]
  },
  {
   "cell_type": "code",
   "execution_count": 1,
   "metadata": {},
   "outputs": [],
   "source": [
    "from matplotlib import pyplot as plt\n",
    "import numpy as np\n",
    "import torch\n",
    "from torch.utils.data import random_split, TensorDataset\n",
    "import cv2\n",
    "from copy import copy\n",
    "import re\n",
    "import os\n",
    "\n",
    "from python_helper_functions import parse_dat, get_sudoku_dataset\n",
    "from NumberModel import NumberModel, fit"
   ]
  },
  {
   "cell_type": "code",
   "execution_count": 2,
   "metadata": {},
   "outputs": [
    {
     "name": "stdout",
     "output_type": "stream",
     "text": [
      "[[3 4 7 0 5 1 0 0 0]\n",
      " [0 1 9 0 0 0 0 0 0]\n",
      " [5 0 6 3 4 0 0 0 0]\n",
      " [0 7 0 0 0 3 0 0 2]\n",
      " [0 0 1 0 0 0 7 0 0]\n",
      " [9 0 0 8 0 0 0 5 0]\n",
      " [0 0 0 0 3 5 6 0 8]\n",
      " [0 0 0 0 0 0 3 2 0]\n",
      " [0 0 0 6 8 0 5 9 1]]\n"
     ]
    }
   ],
   "source": [
    "print(parse_dat('./warped_dataset/image1082.dat'))"
   ]
  },
  {
   "cell_type": "code",
   "execution_count": 8,
   "metadata": {},
   "outputs": [],
   "source": [
    "warped_path = \"./warped_dataset/\"\n",
    "cell_path = \"./cell_dataset/\"\n",
    "all_filenames = os.listdir(warped_path)\n",
    "warped_jpg_filenames = sorted([filename for filename in all_filenames if re.search(r\"\\.jpg\", filename)])\n",
    "warped_dat_filenames = sorted([filename for filename in all_filenames if re.search(r\"\\.dat\", filename)])\n",
    "\n",
    "folder_counter = np.zeros(10, dtype=np.int32)\n",
    "for i in range(len(warped_dat_filenames)):\n",
    "    curr_dat = warped_path + warped_dat_filenames[i]\n",
    "    curr_jpg = warped_path + warped_jpg_filenames[i]\n",
    "    full_img = cv2.imread(curr_jpg, cv2.IMREAD_GRAYSCALE)\n",
    "\n",
    "    cells = []\n",
    "    step_x = full_img.shape[1] // 9\n",
    "    step_y = full_img.shape[0] // 9\n",
    "    for m in range(9):\n",
    "        for n in range(9):\n",
    "            curr_cell = copy(full_img[m*step_y: (m+1)*step_y, n*step_x: (n+1)*step_x])\n",
    "            cells.append(curr_cell)\n",
    "\n",
    "    labels = parse_dat(curr_dat).flatten()\n",
    "\n",
    "    for k, label in enumerate(labels):\n",
    "        label_path = cell_path + str(label) + \"/\"\n",
    "        if not os.path.exists(label_path):\n",
    "            os.makedirs(label_path)\n",
    "\n",
    "        sub_image = cells[k]\n",
    "        cv2.imwrite(label_path + str(folder_counter[label]) + \".jpg\", sub_image)\n",
    "        folder_counter[label] += 1"
   ]
  },
  {
   "cell_type": "code",
   "execution_count": 2,
   "metadata": {},
   "outputs": [
    {
     "name": "stdout",
     "output_type": "stream",
     "text": [
      "Shape labels: torch.Size([11502]), dtype: torch.int32\n",
      "Shape all_images: torch.Size([11502, 1, 50, 50]), dtype: torch.float32\n",
      "Epoch 0"
     ]
    },
    {
     "ename": "TypeError",
     "evalue": "only integer tensors of a single element can be converted to an index",
     "output_type": "error",
     "traceback": [
      "\u001b[0;31m---------------------------------------------------------------------------\u001b[0m",
      "\u001b[0;31mTypeError\u001b[0m                                 Traceback (most recent call last)",
      "Cell \u001b[0;32mIn[2], line 2\u001b[0m\n\u001b[1;32m      1\u001b[0m train_data, test_data, single_image_dimension \u001b[38;5;241m=\u001b[39m get_sudoku_dataset()\n\u001b[0;32m----> 2\u001b[0m losses, NetObject \u001b[38;5;241m=\u001b[39m \u001b[43mfit\u001b[49m\u001b[43m(\u001b[49m\u001b[43mtrain_data\u001b[49m\u001b[43m,\u001b[49m\u001b[43m \u001b[49m\u001b[43mtest_data\u001b[49m\u001b[43m,\u001b[49m\u001b[43m \u001b[49m\u001b[43msingle_image_dimension\u001b[49m\u001b[43m,\u001b[49m\u001b[43m \u001b[49m\u001b[38;5;241;43m20\u001b[39;49m\u001b[43m,\u001b[49m\u001b[43m \u001b[49m\u001b[38;5;241;43m50\u001b[39;49m\u001b[43m)\u001b[49m\n",
      "File \u001b[0;32m~/Documents/PersonalProjects/SudokuSolver/NumberModel.py:87\u001b[0m, in \u001b[0;36mfit\u001b[0;34m(train_dataset, test_dataset, image_dim, epochs, batch_size)\u001b[0m\n\u001b[1;32m     85\u001b[0m     \u001b[38;5;28;01mfor\u001b[39;00m batch \u001b[38;5;129;01min\u001b[39;00m train_loader:\n\u001b[1;32m     86\u001b[0m         batch_x, batch_y \u001b[38;5;241m=\u001b[39m batch\n\u001b[0;32m---> 87\u001b[0m         epoch_loss \u001b[38;5;241m+\u001b[39m\u001b[38;5;241m=\u001b[39m NetObject\u001b[38;5;241m.\u001b[39mstep(\u001b[43mbatch\u001b[49m\u001b[43m[\u001b[49m\u001b[43mbatch_x\u001b[49m\u001b[43m]\u001b[49m, batch[batch_y])\n\u001b[1;32m     88\u001b[0m     epoch_loss \u001b[38;5;241m/\u001b[39m\u001b[38;5;241m=\u001b[39m \u001b[38;5;28mlen\u001b[39m(train_loader)\n\u001b[1;32m     90\u001b[0m \u001b[38;5;66;03m# Set the model to evaluation mode\u001b[39;00m\n",
      "\u001b[0;31mTypeError\u001b[0m: only integer tensors of a single element can be converted to an index"
     ]
    }
   ],
   "source": [
    "train_data, test_data, single_image_dimension = get_sudoku_dataset()\n",
    "losses, NetObject = fit(train_data, test_data, single_image_dimension, 20, 50)"
   ]
  }
 ],
 "metadata": {
  "kernelspec": {
   "display_name": "rapids-23.10",
   "language": "python",
   "name": "python3"
  },
  "language_info": {
   "codemirror_mode": {
    "name": "ipython",
    "version": 3
   },
   "file_extension": ".py",
   "mimetype": "text/x-python",
   "name": "python",
   "nbconvert_exporter": "python",
   "pygments_lexer": "ipython3",
   "version": "3.10.13"
  }
 },
 "nbformat": 4,
 "nbformat_minor": 2
}
