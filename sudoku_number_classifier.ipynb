{
 "cells": [
  {
   "cell_type": "markdown",
   "metadata": {},
   "source": [
    "This notebook will utilize the MNIST dataset to aid in training a neural network (NN) that can recognize digits. Its performance will then be test on some Sudoku puzzles, but it is expected as of now that it may not be perfect since this dataset containts handwritten digits. Sudoku puzzles are typically printed in a nicer fashion. Therefore, it may be wise to explore and expand the training dataset to also incorporate printed Sudoku puzzles. This may make it easier for the NN to then recognize puzzles that have been printed and partially filled in. "
   ]
  },
  {
   "cell_type": "code",
   "execution_count": 1,
   "metadata": {},
   "outputs": [],
   "source": [
    "from matplotlib import pyplot as plt\n",
    "import numpy as np\n",
    "import torch\n",
    "import cv2\n",
    "from PIL import Image\n",
    "from copy import copy\n",
    "import re\n",
    "import os\n",
    "import random\n",
    "from sklearn.model_selection import train_test_split"
   ]
  },
  {
   "cell_type": "code",
   "execution_count": null,
   "metadata": {},
   "outputs": [],
   "source": [
    "# Define the directory containing all the label directories\n",
    "main_directory = '/path/to/main/directory'\n",
    "\n",
    "# Initialize lists to store image file paths and their corresponding labels\n",
    "file_paths = []\n",
    "labels = []\n",
    "\n",
    "# Iterate over each label directory\n",
    "for label in os.listdir(main_directory):\n",
    "    label_directory = os.path.join(main_directory, label)\n",
    "    if os.path.isdir(label_directory):\n",
    "        # Iterate over each image file in the label directory\n",
    "        for file in os.listdir(label_directory):\n",
    "            if file.endswith('.jpg'):\n",
    "                # Append the file path and label to the respective lists\n",
    "                file_path = os.path.join(label_directory, file)\n",
    "                file_paths.append(file_path)\n",
    "                labels.append(label)\n",
    "\n",
    "# Combine the file paths and labels into a list of tuples\n",
    "data = list(zip(file_paths, labels))\n",
    "\n",
    "# Shuffle the data to ensure randomness\n",
    "random.shuffle(data)\n",
    "\n",
    "# Split the data into training and testing sets with an 80-20 ratio\n",
    "train_data, test_data = train_test_split(data, test_size=0.2, random_state=42)\n",
    "\n",
    "# Unzip the training and testing data into separate lists\n",
    "train_file_paths, train_labels = zip(*train_data)\n",
    "test_file_paths, test_labels = zip(*test_data)\n",
    "\n",
    "# Print the number of samples in each set\n",
    "print(\"Number of training samples:\", len(train_file_paths))\n",
    "print(\"Number of testing samples:\", len(test_file_paths))\n"
   ]
  }
 ],
 "metadata": {
  "kernelspec": {
   "display_name": "rapids-23.10",
   "language": "python",
   "name": "python3"
  },
  "language_info": {
   "codemirror_mode": {
    "name": "ipython",
    "version": 3
   },
   "file_extension": ".py",
   "mimetype": "text/x-python",
   "name": "python",
   "nbconvert_exporter": "python",
   "pygments_lexer": "ipython3",
   "version": "3.10.13"
  }
 },
 "nbformat": 4,
 "nbformat_minor": 2
}
